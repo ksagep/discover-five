{
 "cells": [
  {
   "attachments": {},
   "cell_type": "markdown",
   "metadata": {},
   "source": [
    "# Study of annual comparison Notebook"
   ]
  },
  {
   "attachments": {},
   "cell_type": "markdown",
   "metadata": {},
   "source": [
    "## Objectives\n",
    "- Answer Business Requirements 2\n",
    "- The client would like to know that as the exchange rate rises, the difference between the opening and closing value will be smaller than with a lower exchange rate.\n",
    "\n",
    "## Input\n",
    "- Jupyter_notebooks/outputs/dataset/collection/Bitcoin_Price_Data.csv\n",
    "\n",
    "## Output\n",
    "- Generate codes that answer the Business Requirement 2."
   ]
  },
  {
   "attachments": {},
   "cell_type": "markdown",
   "metadata": {},
   "source": [
    "# Change the working directory"
   ]
  },
  {
   "attachments": {},
   "cell_type": "markdown",
   "metadata": {},
   "source": [
    "### Import libraries"
   ]
  },
  {
   "cell_type": "code",
   "execution_count": null,
   "metadata": {},
   "outputs": [],
   "source": [
    "import os\n",
    "import pandas as pd\n",
    "import numpy as np\n",
    "import matplotlib.pyplot as plt\n",
    "import seaborn as sns"
   ]
  },
  {
   "attachments": {},
   "cell_type": "markdown",
   "metadata": {},
   "source": [
    "We need to change the working directory from its current folder to its parent folder\n",
    "* We access the current directory with os.getcwd()"
   ]
  },
  {
   "cell_type": "code",
   "execution_count": 1,
   "metadata": {},
   "outputs": [
    {
     "data": {
      "text/plain": [
       "'/workspace/fifth-milestone-project-bitcoin/jupyter_notebooks'"
      ]
     },
     "execution_count": 1,
     "metadata": {},
     "output_type": "execute_result"
    }
   ],
   "source": [
    "current_dir = os.getcwd()\n",
    "current_dir"
   ]
  },
  {
   "attachments": {},
   "cell_type": "markdown",
   "metadata": {},
   "source": [
    "We want to make the parent of the current directory the new current directory"
   ]
  },
  {
   "cell_type": "code",
   "execution_count": null,
   "metadata": {},
   "outputs": [],
   "source": [
    "current_dir = os.getcwd()\n",
    "os.chdir(os.path.dirname(current_dir))\n",
    "print()"
   ]
  },
  {
   "attachments": {},
   "cell_type": "markdown",
   "metadata": {},
   "source": [
    "Confirm the new current directory"
   ]
  },
  {
   "cell_type": "code",
   "execution_count": 4,
   "metadata": {},
   "outputs": [
    {
     "data": {
      "text/plain": [
       "'/workspace/fifth-milestone-project-bitcoin'"
      ]
     },
     "execution_count": 4,
     "metadata": {},
     "output_type": "execute_result"
    }
   ],
   "source": [
    "current_dir = os.getcwd()\n",
    "current_dir"
   ]
  },
  {
   "attachments": {},
   "cell_type": "markdown",
   "metadata": {},
   "source": [
    "# Load data"
   ]
  },
  {
   "cell_type": "code",
   "execution_count": 6,
   "metadata": {},
   "outputs": [
    {
     "data": {
      "text/html": [
       "<div>\n",
       "<style scoped>\n",
       "    .dataframe tbody tr th:only-of-type {\n",
       "        vertical-align: middle;\n",
       "    }\n",
       "\n",
       "    .dataframe tbody tr th {\n",
       "        vertical-align: top;\n",
       "    }\n",
       "\n",
       "    .dataframe thead th {\n",
       "        text-align: right;\n",
       "    }\n",
       "</style>\n",
       "<table border=\"1\" class=\"dataframe\">\n",
       "  <thead>\n",
       "    <tr style=\"text-align: right;\">\n",
       "      <th></th>\n",
       "      <th>Unnamed: 0</th>\n",
       "      <th>Date</th>\n",
       "      <th>Closing Price (USD)</th>\n",
       "      <th>24h Open (USD)</th>\n",
       "    </tr>\n",
       "  </thead>\n",
       "  <tbody>\n",
       "    <tr>\n",
       "      <th>0</th>\n",
       "      <td>0</td>\n",
       "      <td>2014-03-14</td>\n",
       "      <td>124.654990</td>\n",
       "      <td>125.304660</td>\n",
       "    </tr>\n",
       "    <tr>\n",
       "      <th>1</th>\n",
       "      <td>1</td>\n",
       "      <td>2014-03-15</td>\n",
       "      <td>126.455000</td>\n",
       "      <td>124.654990</td>\n",
       "    </tr>\n",
       "    <tr>\n",
       "      <th>2</th>\n",
       "      <td>2</td>\n",
       "      <td>2014-03-16</td>\n",
       "      <td>109.584830</td>\n",
       "      <td>126.455000</td>\n",
       "    </tr>\n",
       "    <tr>\n",
       "      <th>3</th>\n",
       "      <td>3</td>\n",
       "      <td>2014-03-17</td>\n",
       "      <td>119.674660</td>\n",
       "      <td>109.584830</td>\n",
       "    </tr>\n",
       "    <tr>\n",
       "      <th>4</th>\n",
       "      <td>4</td>\n",
       "      <td>2014-03-18</td>\n",
       "      <td>122.338660</td>\n",
       "      <td>119.674660</td>\n",
       "    </tr>\n",
       "    <tr>\n",
       "      <th>...</th>\n",
       "      <td>...</td>\n",
       "      <td>...</td>\n",
       "      <td>...</td>\n",
       "      <td>...</td>\n",
       "    </tr>\n",
       "    <tr>\n",
       "      <th>2782</th>\n",
       "      <td>2782</td>\n",
       "      <td>2021-10-25</td>\n",
       "      <td>49765.132082</td>\n",
       "      <td>49597.778891</td>\n",
       "    </tr>\n",
       "    <tr>\n",
       "      <th>2783</th>\n",
       "      <td>2783</td>\n",
       "      <td>2021-10-26</td>\n",
       "      <td>50033.693137</td>\n",
       "      <td>49718.354353</td>\n",
       "    </tr>\n",
       "    <tr>\n",
       "      <th>2784</th>\n",
       "      <td>2784</td>\n",
       "      <td>2021-10-27</td>\n",
       "      <td>47886.625255</td>\n",
       "      <td>49927.035067</td>\n",
       "    </tr>\n",
       "    <tr>\n",
       "      <th>2785</th>\n",
       "      <td>2785</td>\n",
       "      <td>2021-10-28</td>\n",
       "      <td>45605.615754</td>\n",
       "      <td>46806.537852</td>\n",
       "    </tr>\n",
       "    <tr>\n",
       "      <th>2786</th>\n",
       "      <td>2786</td>\n",
       "      <td>2021-10-29</td>\n",
       "      <td>43145.471291</td>\n",
       "      <td>46440.336570</td>\n",
       "    </tr>\n",
       "  </tbody>\n",
       "</table>\n",
       "<p>2787 rows × 4 columns</p>\n",
       "</div>"
      ],
      "text/plain": [
       "      Unnamed: 0        Date  Closing Price (USD)  24h Open (USD)\n",
       "0              0  2014-03-14           124.654990      125.304660\n",
       "1              1  2014-03-15           126.455000      124.654990\n",
       "2              2  2014-03-16           109.584830      126.455000\n",
       "3              3  2014-03-17           119.674660      109.584830\n",
       "4              4  2014-03-18           122.338660      119.674660\n",
       "...          ...         ...                  ...             ...\n",
       "2782        2782  2021-10-25         49765.132082    49597.778891\n",
       "2783        2783  2021-10-26         50033.693137    49718.354353\n",
       "2784        2784  2021-10-27         47886.625255    49927.035067\n",
       "2785        2785  2021-10-28         45605.615754    46806.537852\n",
       "2786        2786  2021-10-29         43145.471291    46440.336570\n",
       "\n",
       "[2787 rows x 4 columns]"
      ]
     },
     "execution_count": 6,
     "metadata": {},
     "output_type": "execute_result"
    }
   ],
   "source": [
    "import pandas as pd\n",
    "df = (pd.read_csv(\"/workspace/fifth-milestone-project-bitcoin/jupyter_notebooks/outputs/dataset/collection/Bitcoin_Price_Data.csv\").drop(['24h High (USD)','24h Low (USD)'], axis=1))\n",
    "df.head(2787)"
   ]
  },
  {
   "attachments": {},
   "cell_type": "markdown",
   "metadata": {},
   "source": [
    "# Data filter for Business Requirement 2"
   ]
  },
  {
   "attachments": {},
   "cell_type": "markdown",
   "metadata": {},
   "source": [
    "I filter the data of opening and closing exchange rate for 1st January, 30th June and 31st December"
   ]
  },
  {
   "cell_type": "code",
   "execution_count": 40,
   "metadata": {},
   "outputs": [
    {
     "data": {
      "text/html": [
       "<div>\n",
       "<style scoped>\n",
       "    .dataframe tbody tr th:only-of-type {\n",
       "        vertical-align: middle;\n",
       "    }\n",
       "\n",
       "    .dataframe tbody tr th {\n",
       "        vertical-align: top;\n",
       "    }\n",
       "\n",
       "    .dataframe thead th {\n",
       "        text-align: right;\n",
       "    }\n",
       "</style>\n",
       "<table border=\"1\" class=\"dataframe\">\n",
       "  <thead>\n",
       "    <tr style=\"text-align: right;\">\n",
       "      <th></th>\n",
       "      <th>Unnamed: 0</th>\n",
       "      <th>Date</th>\n",
       "      <th>Closing Price (USD)</th>\n",
       "      <th>24h Open (USD)</th>\n",
       "    </tr>\n",
       "  </thead>\n",
       "  <tbody>\n",
       "    <tr>\n",
       "      <th>0</th>\n",
       "      <td>0</td>\n",
       "      <td>2014-03-14</td>\n",
       "      <td>124.654990</td>\n",
       "      <td>125.304660</td>\n",
       "    </tr>\n",
       "    <tr>\n",
       "      <th>108</th>\n",
       "      <td>108</td>\n",
       "      <td>2014-06-30</td>\n",
       "      <td>843.191730</td>\n",
       "      <td>875.074160</td>\n",
       "    </tr>\n",
       "    <tr>\n",
       "      <th>292</th>\n",
       "      <td>292</td>\n",
       "      <td>2014-12-31</td>\n",
       "      <td>624.006250</td>\n",
       "      <td>624.996250</td>\n",
       "    </tr>\n",
       "    <tr>\n",
       "      <th>293</th>\n",
       "      <td>293</td>\n",
       "      <td>2015-01-01</td>\n",
       "      <td>618.961240</td>\n",
       "      <td>624.006250</td>\n",
       "    </tr>\n",
       "    <tr>\n",
       "      <th>473</th>\n",
       "      <td>473</td>\n",
       "      <td>2015-06-30</td>\n",
       "      <td>210.165500</td>\n",
       "      <td>221.574500</td>\n",
       "    </tr>\n",
       "    <tr>\n",
       "      <th>657</th>\n",
       "      <td>657</td>\n",
       "      <td>2015-12-31</td>\n",
       "      <td>275.283870</td>\n",
       "      <td>276.306870</td>\n",
       "    </tr>\n",
       "    <tr>\n",
       "      <th>658</th>\n",
       "      <td>658</td>\n",
       "      <td>2016-01-01</td>\n",
       "      <td>280.459250</td>\n",
       "      <td>275.283870</td>\n",
       "    </tr>\n",
       "    <tr>\n",
       "      <th>839</th>\n",
       "      <td>839</td>\n",
       "      <td>2016-06-30</td>\n",
       "      <td>381.817000</td>\n",
       "      <td>384.138000</td>\n",
       "    </tr>\n",
       "    <tr>\n",
       "      <th>1023</th>\n",
       "      <td>1023</td>\n",
       "      <td>2016-12-31</td>\n",
       "      <td>674.008000</td>\n",
       "      <td>674.832000</td>\n",
       "    </tr>\n",
       "    <tr>\n",
       "      <th>1024</th>\n",
       "      <td>1024</td>\n",
       "      <td>2017-01-01</td>\n",
       "      <td>663.034000</td>\n",
       "      <td>674.008000</td>\n",
       "    </tr>\n",
       "    <tr>\n",
       "      <th>1204</th>\n",
       "      <td>1204</td>\n",
       "      <td>2017-06-30</td>\n",
       "      <td>849.581250</td>\n",
       "      <td>831.740000</td>\n",
       "    </tr>\n",
       "    <tr>\n",
       "      <th>1388</th>\n",
       "      <td>1388</td>\n",
       "      <td>2017-12-31</td>\n",
       "      <td>2350.355000</td>\n",
       "      <td>2355.892500</td>\n",
       "    </tr>\n",
       "    <tr>\n",
       "      <th>1389</th>\n",
       "      <td>1389</td>\n",
       "      <td>2018-01-01</td>\n",
       "      <td>2741.568750</td>\n",
       "      <td>2350.355000</td>\n",
       "    </tr>\n",
       "    <tr>\n",
       "      <th>1569</th>\n",
       "      <td>1569</td>\n",
       "      <td>2018-06-30</td>\n",
       "      <td>10871.168750</td>\n",
       "      <td>12916.116250</td>\n",
       "    </tr>\n",
       "    <tr>\n",
       "      <th>1753</th>\n",
       "      <td>1753</td>\n",
       "      <td>2018-12-31</td>\n",
       "      <td>7485.639670</td>\n",
       "      <td>7360.737036</td>\n",
       "    </tr>\n",
       "    <tr>\n",
       "      <th>1754</th>\n",
       "      <td>1754</td>\n",
       "      <td>2019-01-01</td>\n",
       "      <td>7358.445677</td>\n",
       "      <td>7485.639663</td>\n",
       "    </tr>\n",
       "    <tr>\n",
       "      <th>1934</th>\n",
       "      <td>1934</td>\n",
       "      <td>2019-06-30</td>\n",
       "      <td>3594.721740</td>\n",
       "      <td>3569.682666</td>\n",
       "    </tr>\n",
       "    <tr>\n",
       "      <th>2118</th>\n",
       "      <td>2118</td>\n",
       "      <td>2019-12-31</td>\n",
       "      <td>10467.260938</td>\n",
       "      <td>10604.343146</td>\n",
       "    </tr>\n",
       "    <tr>\n",
       "      <th>2119</th>\n",
       "      <td>2119</td>\n",
       "      <td>2020-01-01</td>\n",
       "      <td>10984.216002</td>\n",
       "      <td>10534.963252</td>\n",
       "    </tr>\n",
       "    <tr>\n",
       "      <th>2300</th>\n",
       "      <td>2300</td>\n",
       "      <td>2020-06-30</td>\n",
       "      <td>8926.299028</td>\n",
       "      <td>8712.637311</td>\n",
       "    </tr>\n",
       "    <tr>\n",
       "      <th>2484</th>\n",
       "      <td>2484</td>\n",
       "      <td>2020-12-31</td>\n",
       "      <td>9191.271534</td>\n",
       "      <td>9183.914419</td>\n",
       "    </tr>\n",
       "    <tr>\n",
       "      <th>2485</th>\n",
       "      <td>2485</td>\n",
       "      <td>2021-01-01</td>\n",
       "      <td>9173.588333</td>\n",
       "      <td>9214.358566</td>\n",
       "    </tr>\n",
       "    <tr>\n",
       "      <th>2665</th>\n",
       "      <td>2665</td>\n",
       "      <td>2021-06-30</td>\n",
       "      <td>36017.779606</td>\n",
       "      <td>36753.771185</td>\n",
       "    </tr>\n",
       "    <tr>\n",
       "      <th>2786</th>\n",
       "      <td>2786</td>\n",
       "      <td>2021-10-29</td>\n",
       "      <td>43145.471291</td>\n",
       "      <td>46440.336570</td>\n",
       "    </tr>\n",
       "  </tbody>\n",
       "</table>\n",
       "</div>"
      ],
      "text/plain": [
       "      Unnamed: 0        Date  Closing Price (USD)  24h Open (USD)\n",
       "0              0  2014-03-14           124.654990      125.304660\n",
       "108          108  2014-06-30           843.191730      875.074160\n",
       "292          292  2014-12-31           624.006250      624.996250\n",
       "293          293  2015-01-01           618.961240      624.006250\n",
       "473          473  2015-06-30           210.165500      221.574500\n",
       "657          657  2015-12-31           275.283870      276.306870\n",
       "658          658  2016-01-01           280.459250      275.283870\n",
       "839          839  2016-06-30           381.817000      384.138000\n",
       "1023        1023  2016-12-31           674.008000      674.832000\n",
       "1024        1024  2017-01-01           663.034000      674.008000\n",
       "1204        1204  2017-06-30           849.581250      831.740000\n",
       "1388        1388  2017-12-31          2350.355000     2355.892500\n",
       "1389        1389  2018-01-01          2741.568750     2350.355000\n",
       "1569        1569  2018-06-30         10871.168750    12916.116250\n",
       "1753        1753  2018-12-31          7485.639670     7360.737036\n",
       "1754        1754  2019-01-01          7358.445677     7485.639663\n",
       "1934        1934  2019-06-30          3594.721740     3569.682666\n",
       "2118        2118  2019-12-31         10467.260938    10604.343146\n",
       "2119        2119  2020-01-01         10984.216002    10534.963252\n",
       "2300        2300  2020-06-30          8926.299028     8712.637311\n",
       "2484        2484  2020-12-31          9191.271534     9183.914419\n",
       "2485        2485  2021-01-01          9173.588333     9214.358566\n",
       "2665        2665  2021-06-30         36017.779606    36753.771185\n",
       "2786        2786  2021-10-29         43145.471291    46440.336570"
      ]
     },
     "execution_count": 40,
     "metadata": {},
     "output_type": "execute_result"
    }
   ],
   "source": [
    "import pandas as pd\n",
    "df = (pd.read_csv(\"/workspace/fifth-milestone-project-bitcoin/jupyter_notebooks/outputs/dataset/collection/Bitcoin_Price_Data.csv\").drop(['24h High (USD)','24h Low (USD)'], axis=1))\n",
    "usecols=range(2,4)\n",
    "\n",
    "newdf = df[df['Date'].str.contains('2014-03-14|01-01|06-30|12-31|2021-10-29')]\n",
    "newdf.head(25)"
   ]
  },
  {
   "attachments": {},
   "cell_type": "markdown",
   "metadata": {},
   "source": [
    "# Correlation study"
   ]
  },
  {
   "attachments": {},
   "cell_type": "markdown",
   "metadata": {},
   "source": [
    "Use correlation method of spearman and pearson and investigate the correlations"
   ]
  },
  {
   "cell_type": "code",
   "execution_count": 41,
   "metadata": {},
   "outputs": [
    {
     "name": "stdout",
     "output_type": "stream",
     "text": [
      "Pearsons correlation: 0.999\n"
     ]
    }
   ],
   "source": [
    "import pandas as pd\n",
    "from scipy.stats import pearsonr\n",
    "\n",
    "df = (pd.read_csv(\"/workspace/fifth-milestone-project-bitcoin/jupyter_notebooks/outputs/dataset/collection/Bitcoin_Price_Data.csv\").drop(['24h High (USD)','24h Low (USD)'], axis=1))\n",
    "usecols=range(2,4)\n",
    "\n",
    "newdf = df[df['Date'].str.contains('2014-03-14|01-01|06-30|12-31|2021-10-29')]\n",
    "\n",
    "x = newdf['Closing Price (USD)']\n",
    "y = newdf['24h Open (USD)']\n",
    "corr, _ = pearsonr(x, y)\n",
    "print('Pearsons correlation: %.3f' % corr)\n",
    "\n"
   ]
  },
  {
   "cell_type": "code",
   "execution_count": 42,
   "metadata": {},
   "outputs": [
    {
     "name": "stdout",
     "output_type": "stream",
     "text": [
      "Spearman correlation: 0.993\n"
     ]
    }
   ],
   "source": [
    "import pandas as pd\n",
    "from scipy.stats import spearmanr\n",
    "\n",
    "df = (pd.read_csv(\"/workspace/fifth-milestone-project-bitcoin/jupyter_notebooks/outputs/dataset/collection/Bitcoin_Price_Data.csv\").drop(['24h High (USD)','24h Low (USD)'], axis=1))\n",
    "usecols=range(2,4)\n",
    "\n",
    "newdf = df[df['Date'].str.contains('2014-03-14|01-01|06-30|12-31|2021-10-29')]\n",
    "\n",
    "x = newdf['Closing Price (USD)']\n",
    "y = newdf['24h Open (USD)']\n",
    "corr, _ = spearmanr(x, y)\n",
    "print('Spearman correlation: %.3f' % corr)"
   ]
  },
  {
   "cell_type": "code",
   "execution_count": 52,
   "metadata": {},
   "outputs": [
    {
     "data": {
      "text/plain": [
       "['Date', 'Closing price (USD)', '24h open (USD)']"
      ]
     },
     "execution_count": 52,
     "metadata": {},
     "output_type": "execute_result"
    }
   ],
   "source": [
    "vars_to_study = ['Date', 'Closing price (USD)', '24h open (USD)']\n",
    "vars_to_study"
   ]
  },
  {
   "attachments": {},
   "cell_type": "markdown",
   "metadata": {},
   "source": [
    "# EDA on selected variables"
   ]
  },
  {
   "cell_type": "code",
   "execution_count": 54,
   "metadata": {},
   "outputs": [
    {
     "data": {
      "text/html": [
       "<div>\n",
       "<style scoped>\n",
       "    .dataframe tbody tr th:only-of-type {\n",
       "        vertical-align: middle;\n",
       "    }\n",
       "\n",
       "    .dataframe tbody tr th {\n",
       "        vertical-align: top;\n",
       "    }\n",
       "\n",
       "    .dataframe thead th {\n",
       "        text-align: right;\n",
       "    }\n",
       "</style>\n",
       "<table border=\"1\" class=\"dataframe\">\n",
       "  <thead>\n",
       "    <tr style=\"text-align: right;\">\n",
       "      <th></th>\n",
       "      <th>Date</th>\n",
       "      <th>Closing Price (USD)</th>\n",
       "      <th>24h Open (USD)</th>\n",
       "    </tr>\n",
       "  </thead>\n",
       "  <tbody>\n",
       "    <tr>\n",
       "      <th>0</th>\n",
       "      <td>2014-03-14</td>\n",
       "      <td>124.654990</td>\n",
       "      <td>125.304660</td>\n",
       "    </tr>\n",
       "    <tr>\n",
       "      <th>108</th>\n",
       "      <td>2014-06-30</td>\n",
       "      <td>843.191730</td>\n",
       "      <td>875.074160</td>\n",
       "    </tr>\n",
       "    <tr>\n",
       "      <th>292</th>\n",
       "      <td>2014-12-31</td>\n",
       "      <td>624.006250</td>\n",
       "      <td>624.996250</td>\n",
       "    </tr>\n",
       "    <tr>\n",
       "      <th>293</th>\n",
       "      <td>2015-01-01</td>\n",
       "      <td>618.961240</td>\n",
       "      <td>624.006250</td>\n",
       "    </tr>\n",
       "    <tr>\n",
       "      <th>473</th>\n",
       "      <td>2015-06-30</td>\n",
       "      <td>210.165500</td>\n",
       "      <td>221.574500</td>\n",
       "    </tr>\n",
       "    <tr>\n",
       "      <th>657</th>\n",
       "      <td>2015-12-31</td>\n",
       "      <td>275.283870</td>\n",
       "      <td>276.306870</td>\n",
       "    </tr>\n",
       "    <tr>\n",
       "      <th>658</th>\n",
       "      <td>2016-01-01</td>\n",
       "      <td>280.459250</td>\n",
       "      <td>275.283870</td>\n",
       "    </tr>\n",
       "    <tr>\n",
       "      <th>839</th>\n",
       "      <td>2016-06-30</td>\n",
       "      <td>381.817000</td>\n",
       "      <td>384.138000</td>\n",
       "    </tr>\n",
       "    <tr>\n",
       "      <th>1023</th>\n",
       "      <td>2016-12-31</td>\n",
       "      <td>674.008000</td>\n",
       "      <td>674.832000</td>\n",
       "    </tr>\n",
       "    <tr>\n",
       "      <th>1024</th>\n",
       "      <td>2017-01-01</td>\n",
       "      <td>663.034000</td>\n",
       "      <td>674.008000</td>\n",
       "    </tr>\n",
       "    <tr>\n",
       "      <th>1204</th>\n",
       "      <td>2017-06-30</td>\n",
       "      <td>849.581250</td>\n",
       "      <td>831.740000</td>\n",
       "    </tr>\n",
       "    <tr>\n",
       "      <th>1388</th>\n",
       "      <td>2017-12-31</td>\n",
       "      <td>2350.355000</td>\n",
       "      <td>2355.892500</td>\n",
       "    </tr>\n",
       "    <tr>\n",
       "      <th>1389</th>\n",
       "      <td>2018-01-01</td>\n",
       "      <td>2741.568750</td>\n",
       "      <td>2350.355000</td>\n",
       "    </tr>\n",
       "    <tr>\n",
       "      <th>1569</th>\n",
       "      <td>2018-06-30</td>\n",
       "      <td>10871.168750</td>\n",
       "      <td>12916.116250</td>\n",
       "    </tr>\n",
       "    <tr>\n",
       "      <th>1753</th>\n",
       "      <td>2018-12-31</td>\n",
       "      <td>7485.639670</td>\n",
       "      <td>7360.737036</td>\n",
       "    </tr>\n",
       "    <tr>\n",
       "      <th>1754</th>\n",
       "      <td>2019-01-01</td>\n",
       "      <td>7358.445677</td>\n",
       "      <td>7485.639663</td>\n",
       "    </tr>\n",
       "    <tr>\n",
       "      <th>1934</th>\n",
       "      <td>2019-06-30</td>\n",
       "      <td>3594.721740</td>\n",
       "      <td>3569.682666</td>\n",
       "    </tr>\n",
       "    <tr>\n",
       "      <th>2118</th>\n",
       "      <td>2019-12-31</td>\n",
       "      <td>10467.260938</td>\n",
       "      <td>10604.343146</td>\n",
       "    </tr>\n",
       "    <tr>\n",
       "      <th>2119</th>\n",
       "      <td>2020-01-01</td>\n",
       "      <td>10984.216002</td>\n",
       "      <td>10534.963252</td>\n",
       "    </tr>\n",
       "    <tr>\n",
       "      <th>2300</th>\n",
       "      <td>2020-06-30</td>\n",
       "      <td>8926.299028</td>\n",
       "      <td>8712.637311</td>\n",
       "    </tr>\n",
       "    <tr>\n",
       "      <th>2484</th>\n",
       "      <td>2020-12-31</td>\n",
       "      <td>9191.271534</td>\n",
       "      <td>9183.914419</td>\n",
       "    </tr>\n",
       "    <tr>\n",
       "      <th>2485</th>\n",
       "      <td>2021-01-01</td>\n",
       "      <td>9173.588333</td>\n",
       "      <td>9214.358566</td>\n",
       "    </tr>\n",
       "    <tr>\n",
       "      <th>2665</th>\n",
       "      <td>2021-06-30</td>\n",
       "      <td>36017.779606</td>\n",
       "      <td>36753.771185</td>\n",
       "    </tr>\n",
       "    <tr>\n",
       "      <th>2786</th>\n",
       "      <td>2021-10-29</td>\n",
       "      <td>43145.471291</td>\n",
       "      <td>46440.336570</td>\n",
       "    </tr>\n",
       "  </tbody>\n",
       "</table>\n",
       "</div>"
      ],
      "text/plain": [
       "            Date  Closing Price (USD)  24h Open (USD)\n",
       "0     2014-03-14           124.654990      125.304660\n",
       "108   2014-06-30           843.191730      875.074160\n",
       "292   2014-12-31           624.006250      624.996250\n",
       "293   2015-01-01           618.961240      624.006250\n",
       "473   2015-06-30           210.165500      221.574500\n",
       "657   2015-12-31           275.283870      276.306870\n",
       "658   2016-01-01           280.459250      275.283870\n",
       "839   2016-06-30           381.817000      384.138000\n",
       "1023  2016-12-31           674.008000      674.832000\n",
       "1024  2017-01-01           663.034000      674.008000\n",
       "1204  2017-06-30           849.581250      831.740000\n",
       "1388  2017-12-31          2350.355000     2355.892500\n",
       "1389  2018-01-01          2741.568750     2350.355000\n",
       "1569  2018-06-30         10871.168750    12916.116250\n",
       "1753  2018-12-31          7485.639670     7360.737036\n",
       "1754  2019-01-01          7358.445677     7485.639663\n",
       "1934  2019-06-30          3594.721740     3569.682666\n",
       "2118  2019-12-31         10467.260938    10604.343146\n",
       "2119  2020-01-01         10984.216002    10534.963252\n",
       "2300  2020-06-30          8926.299028     8712.637311\n",
       "2484  2020-12-31          9191.271534     9183.914419\n",
       "2485  2021-01-01          9173.588333     9214.358566\n",
       "2665  2021-06-30         36017.779606    36753.771185\n",
       "2786  2021-10-29         43145.471291    46440.336570"
      ]
     },
     "execution_count": 54,
     "metadata": {},
     "output_type": "execute_result"
    }
   ],
   "source": [
    "import pandas as pd\n",
    "vars_to_study = ['Date', 'Closing Price (USD)', '24h Open (USD)']\n",
    "newdf = df[df['Date'].str.contains('2014-03-14|01-01|06-30|12-31|2021-10-29')]\n",
    "\n",
    "newdf_eda = newdf.filter(vars_to_study)\n",
    "newdf_eda.head(25)"
   ]
  },
  {
   "attachments": {},
   "cell_type": "markdown",
   "metadata": {},
   "source": [
    "# Variables distribution by Annual Comparison"
   ]
  },
  {
   "cell_type": "code",
   "execution_count": 2,
   "metadata": {},
   "outputs": [
    {
     "data": {
      "image/png": "[encoded data removed]",
      "text/plain": [
       "<Figure size 1200x500 with 1 Axes>"
      ]
     },
     "metadata": {},
     "output_type": "display_data"
    },
    {
     "name": "stdout",
     "output_type": "stream",
     "text": [
      "\n"
     ]
    },
    {
     "data": {
      "image/png": "[encoded data removed]",
      "text/plain": [
       "<Figure size 800x500 with 1 Axes>"
      ]
     },
     "metadata": {},
     "output_type": "display_data"
    },
    {
     "name": "stdout",
     "output_type": "stream",
     "text": [
      "\n"
     ]
    },
    {
     "data": {
      "image/png": "[encoded data removed]",
      "text/plain": [
       "<Figure size 800x500 with 1 Axes>"
      ]
     },
     "metadata": {},
     "output_type": "display_data"
    },
    {
     "name": "stdout",
     "output_type": "stream",
     "text": [
      "\n"
     ]
    }
   ],
   "source": [
    "import pandas as pd\n",
    "import matplotlib.pyplot as plt\n",
    "import seaborn as sns\n",
    "sns.set_style('whitegrid')\n",
    "df = (pd.read_csv(\"/workspace/fifth-milestone-project-bitcoin/jupyter_notebooks/outputs/dataset/collection/Bitcoin_Price_Data.csv\").drop(['24h High (USD)','24h Low (USD)'], axis=1))\n",
    "vars_to_study = ['Date', 'Closing Price (USD)', '24h Open (USD)']\n",
    "newdf = df[df['Date'].str.contains('2014-03-14|01-01|06-30|12-31|2021-10-29')]\n",
    "newdf_eda = newdf.filter(vars_to_study)\n",
    "def plot_numerical(newdf, col, target_var):\n",
    "    plt.figure(figsize=(8, 5))\n",
    "    sns.histplot(data=newdf, x=col, hue=25, kde=True, element=\"step\")\n",
    "    plt.title(f\"{col}\", fontsize=20, y=1.05)\n",
    "    plt.show()\n",
    "\n",
    "def plot_categorical():\n",
    "\n",
    "    plt.figure(figsize=(12, 5))\n",
    "    sns.regplot(x=newdf[\"Closing Price (USD)\"], y=newdf[\"24h Open (USD)\"])\n",
    "    plt.show()\n",
    "\n",
    "    \n",
    "    \n",
    "target_var = ['Date', 'Closing Price (USD)','24h Open (USD)']\n",
    "for col in vars_to_study:\n",
    "    \n",
    "    if newdf_eda[col].dtype == 'float64':\n",
    "        plot_numerical(newdf_eda, col, target_var)\n",
    "        print()\n",
    "    else:\n",
    "        plot_categorical()\n",
    "        print()"
   ]
  },
  {
   "attachments": {},
   "cell_type": "markdown",
   "metadata": {},
   "source": [
    "## Check the difference between the opening and closing price with mathemathical method"
   ]
  },
  {
   "cell_type": "code",
   "execution_count": 1,
   "metadata": {},
   "outputs": [
    {
     "name": "stdout",
     "output_type": "stream",
     "text": [
      "0          0.0\n",
      "108       32.0\n",
      "292        1.0\n",
      "293        5.0\n",
      "473       12.0\n",
      "657        1.0\n",
      "658       -5.0\n",
      "839        2.0\n",
      "1023       1.0\n",
      "1024      11.0\n",
      "1204     -18.0\n",
      "1388       6.0\n",
      "1389    -392.0\n",
      "1569    2045.0\n",
      "1753    -125.0\n",
      "1754     128.0\n",
      "1934     -25.0\n",
      "2118     137.0\n",
      "2119    -449.0\n",
      "2300    -213.0\n",
      "2484      -7.0\n",
      "2485      40.0\n",
      "2665     736.0\n",
      "2786    3295.0\n",
      "dtype: float64\n",
      "Positive numbers in the list:  16\n",
      "Negative numbers in the list:  8\n"
     ]
    }
   ],
   "source": [
    "import pandas as pd\n",
    "import numpy as np\n",
    "import matplotlib.pyplot as plt\n",
    "import seaborn as sns\n",
    "import math\n",
    "\n",
    "df = (pd.read_csv(\"/workspace/fifth-milestone-project-bitcoin/jupyter_notebooks/outputs/dataset/collection/Bitcoin_Price_Data.csv\").drop(['24h High (USD)','24h Low (USD)'], axis=1))\n",
    "\n",
    "newdf = df[df['Date'].str.contains('2014-03-14|01-01|06-30|12-31|2021-10-29')]\n",
    "\n",
    "x = newdf['24h Open (USD)']\n",
    "y = newdf['Closing Price (USD)']\n",
    "\n",
    "rounded_x = round(x, 0)\n",
    "rounded_y = round(y, 0)\n",
    "\n",
    "diff = rounded_x - rounded_y\n",
    "print(diff)\n",
    "\n",
    "pos_count, neg_count = 0, 0\n",
    "\n",
    "for num in diff:\n",
    "    if num >= 0:\n",
    "        pos_count +=1\n",
    "\n",
    "    else:\n",
    "        neg_count +=1\n",
    "\n",
    "print(\"Positive numbers in the list: \", pos_count)\n",
    "print(\"Negative numbers in the list: \", neg_count)\n"
   ]
  },
  {
   "attachments": {},
   "cell_type": "markdown",
   "metadata": {},
   "source": [
    "# Conclusions"
   ]
  },
  {
   "attachments": {},
   "cell_type": "markdown",
   "metadata": {},
   "source": [
    "- According to the plots, when the exchange rate increases, **most of the time the opening price is higher** than the closing price.\n",
    "- According to the mathemathical method, as the exchange rate rises, the difference between the opening \n",
    "  and closing value **will not be smaller** than with a lower exchange rate.\n",
    "- The exchange rate was changing rapidly and the difference between the opening and closing prices were **significantly bigger from january 2018** than in the previous 4 years.\n",
    "\n",
    "- During the sale, more attention should be paid to the opening price than to the closing price. When buying, it may be more beneficial to observe the closing price."
   ]
  }
 ],
 "metadata": {
  "kernelspec": {
   "display_name": "Python 3",
   "language": "python",
   "name": "python3"
  },
  "language_info": {
   "codemirror_mode": {
    "name": "ipython",
    "version": 3
   },
   "file_extension": ".py",
   "mimetype": "text/x-python",
   "name": "python",
   "nbconvert_exporter": "python",
   "pygments_lexer": "ipython3",
   "version": "3.8.12 (default, Jan  3 2023, 09:54:00) \n[GCC 9.4.0]"
  },
  "orig_nbformat": 4,
  "vscode": {
   "interpreter": {
    "hash": "8b8334dab9339717f727a1deaf837b322d7a41c20d15cc86be99a8e69ceec8ce"
   }
  }
 },
 "nbformat": 4,
 "nbformat_minor": 2
}
